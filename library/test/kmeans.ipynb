{
 "cells": [
  {
   "cell_type": "code",
   "execution_count": 1,
   "metadata": {},
   "outputs": [],
   "source": [
    "import numpy as np\n",
    "import matplotlib.pyplot as plt\n",
    "import pandas as pd\n",
    "import math\n",
    "from IPython.display import display\n",
    "\n",
    "from statistics import mean\n",
    "import functools"
   ]
  },
  {
   "cell_type": "markdown",
   "metadata": {},
   "source": [
    "## utils"
   ]
  },
  {
   "cell_type": "markdown",
   "metadata": {},
   "source": [
    "### classes"
   ]
  },
  {
   "cell_type": "code",
   "execution_count": 93,
   "metadata": {},
   "outputs": [
    {
     "name": "stdout",
     "output_type": "stream",
     "text": [
      "Cluster: [(1, 2, 3)];\n",
      "\tCentroid: [1, 2, 3]\n"
     ]
    }
   ],
   "source": [
    "from typing import Any\n",
    "from collections.abc import Iterable\n",
    "\n",
    "\n",
    "class Cluster:\n",
    "    def __init__(self, cluster_list=[]):\n",
    "        self.__cluster_list = cluster_list\n",
    "        self.__center = self.computeCentroid()\n",
    "\n",
    "    def __setattr__(self, name: str, value: Any) -> None:\n",
    "        \n",
    "\n",
    "        if name == '_Cluster__cluster_list':\n",
    "            if isinstance(value, Iterable) and not isinstance(value, (str, bytes)):\n",
    "                value = [x for x in value]\n",
    "            self.__dict__[name] = value\n",
    "            self.__center = self.computeCentroid() # -- automatically reruns computeCentroid when cluster_list is updated\n",
    "\n",
    "        else:\n",
    "            self.__dict__[name] = value\n",
    "\n",
    "    def __str__(self):\n",
    "        return f'Cluster: {self.cluster_list};\\n\\tCentroid: {self.center}'\n",
    "    def __repr__(self):\n",
    "        return f'Cluster(cluster_list={self.cluster_list})'\n",
    "    \n",
    "    @property\n",
    "    def cluster_list(self):\n",
    "        return self.__cluster_list\n",
    "    @cluster_list.setter\n",
    "    def cluster_list(self, value):\n",
    "        self.__cluster_list = value\n",
    "    @cluster_list.deleter\n",
    "    def cluster_list(self):\n",
    "        del self.__cluster_list\n",
    "\n",
    "    @property\n",
    "    def center(self):\n",
    "        return self.__center\n",
    "    # @center.setter shouldnt be allowed\n",
    "\n",
    "    \n",
    "\n",
    "    def __iter__(self):\n",
    "        return iter(self.cluster_list)\n",
    "\n",
    "    def __add__(self, other):\n",
    "        if type(other) != Cluster:\n",
    "            other = Cluster([other])\n",
    "        return Cluster(self.cluster_list + other.cluster_list)\n",
    "    \n",
    "    def __sub__(self, other):\n",
    "        if type(other) != Cluster :\n",
    "            other = Cluster([other])\n",
    "            # print('other:', other) #debug\n",
    "        return Cluster([x for x in self if x not in other]) # set difference\n",
    "    \n",
    "    def __len__(self):\n",
    "        return len(self.cluster_list)\n",
    "    \n",
    "    def __getitem__(self, index):\n",
    "        return self.cluster_list[index]\n",
    "    \n",
    "\n",
    "    def computeCentroid(self, algo='mean'):\n",
    "        if len(self.__cluster_list) == 0:\n",
    "            return None\n",
    "        \n",
    "        if len(self.__cluster_list) == 1: \n",
    "            if isinstance(self.__cluster_list[0], Iterable) and not isinstance(self.__cluster_list[0], (str, bytes)):\n",
    "                return list(self.__cluster_list[0])\n",
    "            else:\n",
    "                return float(self.__cluster_list[0]) #there's only one element in the cluster, so the centroid is the element itself\n",
    "        # if each item is a primitive type, i wanna find the mean; if each is an nd array, i wanna return an nd array\n",
    "\n",
    "        centroid = None\n",
    "        for item in self.__cluster_list:\n",
    "            if isinstance(item, Iterable) and not isinstance(item, (str, bytes)):\n",
    "                transposed = zip(*self.__cluster_list)\n",
    "                centroid = [float(mean(coordinate)) for coordinate in transposed]\n",
    "            else:\n",
    "                centroid = float(mean(self.__cluster_list))\n",
    "        return centroid\n",
    "    \n",
    "\n",
    "        \n",
    "\n",
    "    \n",
    "c1=Cluster()\n",
    "c2=Cluster([1,25,6])\n",
    "c1+=c2\n",
    "\n",
    "cl1 = Cluster([[1,2,3,4,5]])\n",
    "cl1.computeCentroid()\n",
    "\n",
    "test = Cluster([(1,2,3)])\n",
    "print(test)\n",
    "# print(c1)"
   ]
  },
  {
   "cell_type": "code",
   "execution_count": 28,
   "metadata": {},
   "outputs": [
    {
     "data": {
      "text/plain": [
       "[8.75, 11.425]"
      ]
     },
     "execution_count": 28,
     "metadata": {},
     "output_type": "execute_result"
    }
   ],
   "source": [
    "\n",
    "vectors=[1,4,7]\n",
    "mean(vectors) #works\n",
    "\n",
    "vectors = [(1,2,3), (4,5,6), (7,8,9)] #works\n",
    "vectors = [np.array([10., 12.]), np.array([10., 14.]), np.array([5., 7.]), np.array([10. , 12.7])]\n",
    "transposed = zip(*vectors)\n",
    "transposed\n",
    "# for coord in transposed:\n",
    "#     for element in coord:\n",
    "#         float(element)\n",
    "[float(mean(coordinate)) for coordinate in transposed]"
   ]
  },
  {
   "cell_type": "code",
   "execution_count": 80,
   "metadata": {},
   "outputs": [
    {
     "data": {
      "text/plain": [
       "array([10. , 12.7])"
      ]
     },
     "execution_count": 80,
     "metadata": {},
     "output_type": "execute_result"
    }
   ],
   "source": [
    "data[0]"
   ]
  },
  {
   "cell_type": "code",
   "execution_count": 82,
   "metadata": {},
   "outputs": [
    {
     "name": "stdout",
     "output_type": "stream",
     "text": [
      "Cluster: [np.float64(5.0), np.float64(7.0)];\n",
      "\tCentroid: 6.0\n"
     ]
    }
   ],
   "source": [
    "cluster_4= Cluster (data[4])\n",
    "print(cluster_4)"
   ]
  },
  {
   "cell_type": "code",
   "execution_count": 36,
   "metadata": {},
   "outputs": [
    {
     "name": "stdout",
     "output_type": "stream",
     "text": [
      "Cluster: [array([10., 12.]), array([10., 14.]), array([5., 7.]), array([10. , 12.7])];\n",
      "\tCentroid: [8.75, 11.425]\n"
     ]
    }
   ],
   "source": [
    "cl1 = Cluster([np.array([10., 12.]), np.array([10., 14.]), np.array([5., 7.]), np.array([10. , 12.7])])\n",
    "print(cl1)"
   ]
  },
  {
   "cell_type": "code",
   "execution_count": 37,
   "metadata": {},
   "outputs": [
    {
     "data": {
      "text/plain": [
       "Cluster(cluster_list=[9, 1])"
      ]
     },
     "execution_count": 37,
     "metadata": {},
     "output_type": "execute_result"
    }
   ],
   "source": [
    "c4=Cluster((9,1))\n",
    "c4"
   ]
  },
  {
   "cell_type": "code",
   "execution_count": 94,
   "metadata": {},
   "outputs": [
    {
     "name": "stdout",
     "output_type": "stream",
     "text": [
      "[np.float64(5.0), np.float64(7.0)]\n"
     ]
    }
   ],
   "source": [
    "# CLUSTER: Cluster: [array([5., 7.])];\n",
    "# \tCentroid: [5. 7.]\n",
    "cluster_5= Cluster ([np.array([5., 7.])])\n",
    "print(cluster_5.center)"
   ]
  },
  {
   "cell_type": "markdown",
   "metadata": {},
   "source": [
    "### datasets"
   ]
  },
  {
   "cell_type": "code",
   "execution_count": 10,
   "metadata": {},
   "outputs": [
    {
     "data": {
      "text/html": [
       "<div>\n",
       "<style scoped>\n",
       "    .dataframe tbody tr th:only-of-type {\n",
       "        vertical-align: middle;\n",
       "    }\n",
       "\n",
       "    .dataframe tbody tr th {\n",
       "        vertical-align: top;\n",
       "    }\n",
       "\n",
       "    .dataframe thead th {\n",
       "        text-align: right;\n",
       "    }\n",
       "</style>\n",
       "<table border=\"1\" class=\"dataframe\">\n",
       "  <thead>\n",
       "    <tr style=\"text-align: right;\">\n",
       "      <th></th>\n",
       "      <th>x</th>\n",
       "      <th>y</th>\n",
       "    </tr>\n",
       "  </thead>\n",
       "  <tbody>\n",
       "    <tr>\n",
       "      <th>0</th>\n",
       "      <td>10.0</td>\n",
       "      <td>12.7</td>\n",
       "    </tr>\n",
       "    <tr>\n",
       "      <th>1</th>\n",
       "      <td>10.0</td>\n",
       "      <td>12.0</td>\n",
       "    </tr>\n",
       "    <tr>\n",
       "      <th>2</th>\n",
       "      <td>10.0</td>\n",
       "      <td>14.0</td>\n",
       "    </tr>\n",
       "    <tr>\n",
       "      <th>3</th>\n",
       "      <td>9.0</td>\n",
       "      <td>14.0</td>\n",
       "    </tr>\n",
       "    <tr>\n",
       "      <th>4</th>\n",
       "      <td>5.0</td>\n",
       "      <td>7.0</td>\n",
       "    </tr>\n",
       "  </tbody>\n",
       "</table>\n",
       "</div>"
      ],
      "text/plain": [
       "      x     y\n",
       "0  10.0  12.7\n",
       "1  10.0  12.0\n",
       "2  10.0  14.0\n",
       "3   9.0  14.0\n",
       "4   5.0   7.0"
      ]
     },
     "metadata": {},
     "output_type": "display_data"
    }
   ],
   "source": [
    "data=np.array([\n",
    "    [10, 12.7],\n",
    "    [10, 12],\n",
    "    [10, 14],\n",
    "    [9, 14],\n",
    "    [5,7]]\n",
    ")\n",
    "x=data[:,0]; y=data[:,1]\n",
    "n=len(x)\n",
    "display(pd.DataFrame(data, columns=['x', 'y']))"
   ]
  },
  {
   "cell_type": "markdown",
   "metadata": {},
   "source": [
    "### distances"
   ]
  },
  {
   "cell_type": "code",
   "execution_count": 7,
   "metadata": {},
   "outputs": [],
   "source": [
    "def validate_dimensions(func):\n",
    "    @functools.wraps(func) # --->preserves teh function signature\n",
    "    def wrapper(point1, point2, *args, **kwargs):\n",
    "        # -- convert from scalar to vector (1D array)\n",
    "        if isinstance(point1, (float, int)):\n",
    "            point1 = [point1]\n",
    "        if isinstance(point2, (float, int)):\n",
    "            point2 = [point2]\n",
    "\n",
    "        # -- check if the two points have the same number of dimensions (same domain)\n",
    "        if len(point1) != len(point2):\n",
    "            raise ValueError(f'The two points should have the same number of dimensions (as in # of cols); {len(point1)} != {len(point2)}')\n",
    "\n",
    "        return func(point1, point2, *args, **kwargs)\n",
    "    return wrapper\n",
    "\n",
    "@validate_dimensions\n",
    "def manhattan_distance(point1, point2):\n",
    "    '''\n",
    "    Computes and returns the Manhattan distance between two points x=(x1, x2... xm) and y=(y1, y2,... ym)\n",
    "    '''\n",
    "\n",
    "    # -- convert from scalar to vector (1D array)\n",
    "    if isinstance(point1, float) or isinstance(point1, int):\n",
    "        point1 = [point1]\n",
    "    if isinstance(point2, float) or isinstance(point2, int):\n",
    "        point2 = [point2]\n",
    "\n",
    "    if len(point1) != len(point2):\n",
    "        raise ValueError(f'The two points should have the same number of dimensions (as in # of cols); {len(point1)} != {len(point2)}')\n",
    "    \n",
    "    distance = sum(abs(point1[i] - point2[i]) for i in range(len(point1)))\n",
    "    return float(round(distance,5))\n",
    "\n",
    "def cluster_distance(c1,c2, func=manhattan_distance, method='centroid'):\n",
    "    '''\n",
    "    Computes the distance between two clusters c1 and c2 using the specified method.\n",
    "    The method can be one of 'single', 'complete', 'average', 'centroid'\n",
    "\n",
    "    In kmeans clustering, the method is by default centroid (force it in the function)\n",
    "    '''\n",
    "\n",
    "    c1=Cluster(c1)\n",
    "    c2=Cluster(c2)\n",
    "        \n",
    "    # print(f'c1: {c1}; \\nc2: {c2}') #debug\n",
    "    if method == 'single':\n",
    "        return min(func(x1,x2) for x1 in c1 for x2 in c2)\n",
    "    \n",
    "    elif method == 'complete':\n",
    "        return max(func(x1,x2) for x1 in c1 for x2 in c2)\n",
    "    \n",
    "    elif method == 'average':\n",
    "        return sum(func(x1,x2) for x1 in c1 for x2 in c2) / (len(c1) * len(c2))\n",
    "    \n",
    "    elif method == 'centroid':\n",
    "        centroid_1 = c1.center\n",
    "        centroid_2 = c2.center\n",
    "\n",
    "        return func(centroid_1, centroid_2)\n",
    "    \n"
   ]
  },
  {
   "cell_type": "code",
   "execution_count": 8,
   "metadata": {},
   "outputs": [
    {
     "ename": "NameError",
     "evalue": "name 'data' is not defined",
     "output_type": "error",
     "traceback": [
      "\u001b[0;31m---------------------------------------------------------------------------\u001b[0m",
      "\u001b[0;31mNameError\u001b[0m                                 Traceback (most recent call last)",
      "Cell \u001b[0;32mIn[8], line 6\u001b[0m\n\u001b[1;32m      3\u001b[0m c1\u001b[38;5;241m=\u001b[39mCluster([\u001b[38;5;241m1\u001b[39m,\u001b[38;5;241m2\u001b[39m,\u001b[38;5;241m4\u001b[39m,\u001b[38;5;241m0\u001b[39m])\n\u001b[1;32m      4\u001b[0m c2\u001b[38;5;241m=\u001b[39mCluster([\u001b[38;5;241m3\u001b[39m]) \u001b[38;5;66;03m#these are indices of the data points\u001b[39;00m\n\u001b[0;32m----> 6\u001b[0m data_c1 \u001b[38;5;241m=\u001b[39m \u001b[43mdata\u001b[49m[c1]\n\u001b[1;32m      7\u001b[0m data_c2 \u001b[38;5;241m=\u001b[39m data[\u001b[38;5;241m3\u001b[39m]\u001b[38;5;241m.\u001b[39mreshape(\u001b[38;5;241m1\u001b[39m,data[\u001b[38;5;241m3\u001b[39m]\u001b[38;5;241m.\u001b[39mshape[\u001b[38;5;241m0\u001b[39m]) \u001b[38;5;66;03m# bcs its one item, should have 1 row\u001b[39;00m\n\u001b[1;32m      9\u001b[0m cluster_distance(data_c1, data_c2)\n",
      "\u001b[0;31mNameError\u001b[0m: name 'data' is not defined"
     ]
    }
   ],
   "source": [
    "manhattan_distance((10,12.7), (10,12)) #works\n",
    "\n",
    "c1=Cluster([1,2,4,0])\n",
    "c2=Cluster([3]) #these are indices of the data points\n",
    "\n",
    "data_c1 = data[c1]\n",
    "data_c2 = data[3].reshape(1,data[3].shape[0]) # bcs its one item, should have 1 row\n",
    "\n",
    "cluster_distance(data_c1, data_c2)\n",
    "\n",
    "# data_c2.shape"
   ]
  },
  {
   "cell_type": "code",
   "execution_count": null,
   "metadata": {},
   "outputs": [
    {
     "data": {
      "text/plain": [
       "array([[10. , 12. ],\n",
       "       [10. , 14. ],\n",
       "       [ 5. ,  7. ],\n",
       "       [10. , 12.7]])"
      ]
     },
     "metadata": {},
     "output_type": "display_data"
    },
    {
     "data": {
      "text/plain": [
       "array([[ 9., 14.]])"
      ]
     },
     "metadata": {},
     "output_type": "display_data"
    },
    {
     "name": "stdout",
     "output_type": "stream",
     "text": [
      "Cluster: [array([ 9., 14.])];\n",
      "\tCentroid: [ 9. 14.]\n"
     ]
    }
   ],
   "source": [
    "display(data_c1)\n",
    "display(np.array(data_c2))\n",
    "clust_1 = Cluster(data_c1); clust_2 = Cluster(data_c2)\n",
    "print(clust_2)"
   ]
  },
  {
   "cell_type": "code",
   "execution_count": null,
   "metadata": {},
   "outputs": [
    {
     "data": {
      "text/plain": [
       "0.35"
      ]
     },
     "execution_count": 11,
     "metadata": {},
     "output_type": "execute_result"
    }
   ],
   "source": [
    "cluster_distance([10,12.7], [10,12])"
   ]
  },
  {
   "cell_type": "code",
   "execution_count": null,
   "metadata": {},
   "outputs": [
    {
     "data": {
      "text/plain": [
       "array([ 8.75 , 11.425])"
      ]
     },
     "execution_count": 12,
     "metadata": {},
     "output_type": "execute_result"
    }
   ],
   "source": [
    "c1 = np.array([[1, 2, 3],\n",
    "               [4, 5, 6],\n",
    "               [7, 8, 9]])\n",
    "\n",
    "# mean_c1 = np.mean(c1, axis=0)\n",
    "# print(mean_c1)\n",
    "\n",
    "data_c1=Cluster(data_c1)\n",
    "mean_data_c1 = np.mean(data_c1, axis=0)\n",
    "mean_data_c1"
   ]
  },
  {
   "cell_type": "markdown",
   "metadata": {},
   "source": [
    "### algo"
   ]
  },
  {
   "cell_type": "markdown",
   "metadata": {},
   "source": [
    "#### args and vars"
   ]
  },
  {
   "cell_type": "code",
   "execution_count": 13,
   "metadata": {},
   "outputs": [
    {
     "data": {
      "text/html": [
       "<div>\n",
       "<style scoped>\n",
       "    .dataframe tbody tr th:only-of-type {\n",
       "        vertical-align: middle;\n",
       "    }\n",
       "\n",
       "    .dataframe tbody tr th {\n",
       "        vertical-align: top;\n",
       "    }\n",
       "\n",
       "    .dataframe thead th {\n",
       "        text-align: right;\n",
       "    }\n",
       "</style>\n",
       "<table border=\"1\" class=\"dataframe\">\n",
       "  <thead>\n",
       "    <tr style=\"text-align: right;\">\n",
       "      <th></th>\n",
       "      <th>Nicotine (cg)</th>\n",
       "      <th>Tar(mg)</th>\n",
       "    </tr>\n",
       "  </thead>\n",
       "  <tbody>\n",
       "    <tr>\n",
       "      <th>Peter Stuyvesant</th>\n",
       "      <td>10.0</td>\n",
       "      <td>12.7</td>\n",
       "    </tr>\n",
       "    <tr>\n",
       "      <th>Gitanes</th>\n",
       "      <td>10.0</td>\n",
       "      <td>12.0</td>\n",
       "    </tr>\n",
       "    <tr>\n",
       "      <th>Malboro</th>\n",
       "      <td>10.0</td>\n",
       "      <td>14.0</td>\n",
       "    </tr>\n",
       "    <tr>\n",
       "      <th>Lucky Strike</th>\n",
       "      <td>9.0</td>\n",
       "      <td>14.0</td>\n",
       "    </tr>\n",
       "    <tr>\n",
       "      <th>Light Delight</th>\n",
       "      <td>5.0</td>\n",
       "      <td>7.0</td>\n",
       "    </tr>\n",
       "  </tbody>\n",
       "</table>\n",
       "</div>"
      ],
      "text/plain": [
       "                  Nicotine (cg)  Tar(mg)\n",
       "Peter Stuyvesant           10.0     12.7\n",
       "Gitanes                    10.0     12.0\n",
       "Malboro                    10.0     14.0\n",
       "Lucky Strike                9.0     14.0\n",
       "Light Delight               5.0      7.0"
      ]
     },
     "metadata": {},
     "output_type": "display_data"
    }
   ],
   "source": [
    "df=pd.DataFrame(data, columns=['Nicotine (cg)', 'Tar(mg)'], index=['Peter Stuyvesant', 'Gitanes','Malboro','Lucky Strike', 'Light Delight'])\n",
    "display(df)\n",
    "\n",
    "k=2; n=len(data)\n",
    "distance=cluster_distance\n",
    "max_iter=100\n",
    "\n",
    "cache_distance =[]\n",
    "cache_means = []"
   ]
  },
  {
   "cell_type": "code",
   "execution_count": 14,
   "metadata": {},
   "outputs": [],
   "source": [
    "# 1st step: assign each data point to a cluster, we will set means based on data points\n",
    "M1=np.array(df.loc['Gitanes'])\n",
    "M2=np.array(df.loc['Lucky Strike'])\n",
    "\n",
    "means=[M1,M2]; cache_means.append(means)\n",
    "c1=Cluster()\n",
    "c2=Cluster()"
   ]
  },
  {
   "cell_type": "code",
   "execution_count": 15,
   "metadata": {},
   "outputs": [
    {
     "data": {
      "text/html": [
       "<div>\n",
       "<style scoped>\n",
       "    .dataframe tbody tr th:only-of-type {\n",
       "        vertical-align: middle;\n",
       "    }\n",
       "\n",
       "    .dataframe tbody tr th {\n",
       "        vertical-align: top;\n",
       "    }\n",
       "\n",
       "    .dataframe thead th {\n",
       "        text-align: right;\n",
       "    }\n",
       "</style>\n",
       "<table border=\"1\" class=\"dataframe\">\n",
       "  <thead>\n",
       "    <tr style=\"text-align: right;\">\n",
       "      <th></th>\n",
       "      <th>Cluster 1</th>\n",
       "      <th>Cluster 2</th>\n",
       "    </tr>\n",
       "  </thead>\n",
       "  <tbody>\n",
       "    <tr>\n",
       "      <th>Peter Stuyvesant</th>\n",
       "      <td>0.35</td>\n",
       "      <td>0.15</td>\n",
       "    </tr>\n",
       "    <tr>\n",
       "      <th>Gitanes</th>\n",
       "      <td>0.00</td>\n",
       "      <td>0.50</td>\n",
       "    </tr>\n",
       "    <tr>\n",
       "      <th>Malboro</th>\n",
       "      <td>1.00</td>\n",
       "      <td>0.50</td>\n",
       "    </tr>\n",
       "    <tr>\n",
       "      <th>Lucky Strike</th>\n",
       "      <td>0.50</td>\n",
       "      <td>0.00</td>\n",
       "    </tr>\n",
       "    <tr>\n",
       "      <th>Light Delight</th>\n",
       "      <td>5.00</td>\n",
       "      <td>5.50</td>\n",
       "    </tr>\n",
       "  </tbody>\n",
       "</table>\n",
       "</div>"
      ],
      "text/plain": [
       "                  Cluster 1  Cluster 2\n",
       "Peter Stuyvesant       0.35       0.15\n",
       "Gitanes                0.00       0.50\n",
       "Malboro                1.00       0.50\n",
       "Lucky Strike           0.50       0.00\n",
       "Light Delight          5.00       5.50"
      ]
     },
     "metadata": {},
     "output_type": "display_data"
    }
   ],
   "source": [
    "#2nd step: \n",
    "# -- compute the distances between each data point and the two means\n",
    "distances = np.zeros((n,k))\n",
    "for i in range(n):\n",
    "    for j in range(k):\n",
    "        distances[i,j] = distance(data[i], means[j])\n",
    "distance_df = pd.DataFrame(distances, index=df.index, columns=['Cluster 1', 'Cluster 2'])\n",
    "cache_distance.append(distance_df)\n",
    "display(distance_df)"
   ]
  },
  {
   "cell_type": "code",
   "execution_count": 16,
   "metadata": {},
   "outputs": [
    {
     "name": "stdout",
     "output_type": "stream",
     "text": [
      "Cluster: [array([10., 12.]), array([5., 7.])];\n",
      "\tCentroid: [np.float64(7.5), np.float64(9.5)]\n"
     ]
    }
   ],
   "source": [
    "# -- assign each data point to the cluster with the closest mean\n",
    "index_c1=Cluster(); index_c2=Cluster()\n",
    "c1=Cluster(); c2=Cluster()\n",
    "\n",
    "for i in range(n):\n",
    "    if distances[i,0] < distances[i,1]:\n",
    "        c1+=data[i]\n",
    "        index_c1+=i\n",
    "    else:\n",
    "        c2+=data[i]\n",
    "        index_c2+=i\n",
    "print(c1)"
   ]
  },
  {
   "cell_type": "code",
   "execution_count": null,
   "metadata": {},
   "outputs": [
    {
     "data": {
      "text/html": [
       "<div>\n",
       "<style scoped>\n",
       "    .dataframe tbody tr th:only-of-type {\n",
       "        vertical-align: middle;\n",
       "    }\n",
       "\n",
       "    .dataframe tbody tr th {\n",
       "        vertical-align: top;\n",
       "    }\n",
       "\n",
       "    .dataframe thead tr th {\n",
       "        text-align: left;\n",
       "    }\n",
       "</style>\n",
       "<table border=\"1\" class=\"dataframe\">\n",
       "  <thead>\n",
       "    <tr>\n",
       "      <th></th>\n",
       "      <th>Nicotine (cg)</th>\n",
       "      <th>Tar(mg)</th>\n",
       "    </tr>\n",
       "  </thead>\n",
       "  <tbody>\n",
       "    <tr>\n",
       "      <th>Cluster 1</th>\n",
       "      <td>7.500000</td>\n",
       "      <td>9.500000</td>\n",
       "    </tr>\n",
       "    <tr>\n",
       "      <th>Cluster 2</th>\n",
       "      <td>9.666667</td>\n",
       "      <td>13.566667</td>\n",
       "    </tr>\n",
       "  </tbody>\n",
       "</table>\n",
       "</div>"
      ],
      "text/plain": [
       "          Nicotine (cg)    Tar(mg)\n",
       "Cluster 1      7.500000   9.500000\n",
       "Cluster 2      9.666667  13.566667"
      ]
     },
     "metadata": {},
     "output_type": "display_data"
    },
    {
     "ename": "ValueError",
     "evalue": "The truth value of an array with more than one element is ambiguous. Use a.any() or a.all()",
     "output_type": "error",
     "traceback": [
      "\u001b[0;31m---------------------------------------------------------------------------\u001b[0m",
      "\u001b[0;31mValueError\u001b[0m                                Traceback (most recent call last)",
      "Cell \u001b[0;32mIn[30], line 10\u001b[0m\n\u001b[1;32m      7\u001b[0m display(pd\u001b[38;5;241m.\u001b[39mDataFrame(means, columns\u001b[38;5;241m=\u001b[39m[df\u001b[38;5;241m.\u001b[39mcolumns],index\u001b[38;5;241m=\u001b[39m[\u001b[38;5;124mf\u001b[39m\u001b[38;5;124m'\u001b[39m\u001b[38;5;124mCluster \u001b[39m\u001b[38;5;132;01m{\u001b[39;00m_\u001b[38;5;132;01m}\u001b[39;00m\u001b[38;5;124m'\u001b[39m \u001b[38;5;28;01mfor\u001b[39;00m _ \u001b[38;5;129;01min\u001b[39;00m \u001b[38;5;28mrange\u001b[39m(\u001b[38;5;241m1\u001b[39m,k\u001b[38;5;241m+\u001b[39m\u001b[38;5;241m1\u001b[39m)]))\n\u001b[1;32m      9\u001b[0m \u001b[38;5;66;03m# need to generalize it to k \u001b[39;00m\n\u001b[0;32m---> 10\u001b[0m convergence \u001b[38;5;241m=\u001b[39m (\u001b[43mcache_means\u001b[49m\u001b[43m[\u001b[49m\u001b[38;5;241;43m-\u001b[39;49m\u001b[38;5;241;43m1\u001b[39;49m\u001b[43m]\u001b[49m\u001b[43m[\u001b[49m\u001b[38;5;241;43m0\u001b[39;49m\u001b[43m]\u001b[49m\u001b[38;5;241;43m==\u001b[39;49m\u001b[43mmeans\u001b[49m\u001b[43m[\u001b[49m\u001b[38;5;241;43m0\u001b[39;49m\u001b[43m]\u001b[49m\u001b[43m \u001b[49m\u001b[38;5;129;43;01mand\u001b[39;49;00m\u001b[43m \u001b[49m\u001b[43mcache_means\u001b[49m\u001b[43m[\u001b[49m\u001b[38;5;241;43m-\u001b[39;49m\u001b[38;5;241;43m1\u001b[39;49m\u001b[43m]\u001b[49m\u001b[43m[\u001b[49m\u001b[38;5;241;43m1\u001b[39;49m\u001b[43m]\u001b[49m\u001b[38;5;241;43m==\u001b[39;49m\u001b[43mmeans\u001b[49m\u001b[43m[\u001b[49m\u001b[38;5;241;43m1\u001b[39;49m\u001b[43m]\u001b[49m)\n\u001b[1;32m     11\u001b[0m convergence\n",
      "\u001b[0;31mValueError\u001b[0m: The truth value of an array with more than one element is ambiguous. Use a.any() or a.all()"
     ]
    }
   ],
   "source": [
    "# 3rd step: compute the new means\n",
    "\n",
    "M1=c1.center\n",
    "M2=c2.center\n",
    "means=[M1,M2]\n",
    "\n",
    "\n",
    "# need to generalize it to k \n",
    "convergence = (cache_means[-1][0]==means[0] and cache_means[-1][1]==means[1])\n",
    "convergence"
   ]
  },
  {
   "cell_type": "code",
   "execution_count": null,
   "metadata": {},
   "outputs": [
    {
     "data": {
      "text/html": [
       "<div>\n",
       "<style scoped>\n",
       "    .dataframe tbody tr th:only-of-type {\n",
       "        vertical-align: middle;\n",
       "    }\n",
       "\n",
       "    .dataframe tbody tr th {\n",
       "        vertical-align: top;\n",
       "    }\n",
       "\n",
       "    .dataframe thead th {\n",
       "        text-align: right;\n",
       "    }\n",
       "</style>\n",
       "<table border=\"1\" class=\"dataframe\">\n",
       "  <thead>\n",
       "    <tr style=\"text-align: right;\">\n",
       "      <th></th>\n",
       "      <th>Nicotine (cg)</th>\n",
       "      <th>Tar(mg)</th>\n",
       "    </tr>\n",
       "  </thead>\n",
       "  <tbody>\n",
       "    <tr>\n",
       "      <th>Peter Stuyvesant</th>\n",
       "      <td>10.0</td>\n",
       "      <td>12.7</td>\n",
       "    </tr>\n",
       "    <tr>\n",
       "      <th>Gitanes</th>\n",
       "      <td>10.0</td>\n",
       "      <td>12.0</td>\n",
       "    </tr>\n",
       "    <tr>\n",
       "      <th>Malboro</th>\n",
       "      <td>10.0</td>\n",
       "      <td>14.0</td>\n",
       "    </tr>\n",
       "    <tr>\n",
       "      <th>Lucky Strike</th>\n",
       "      <td>9.0</td>\n",
       "      <td>14.0</td>\n",
       "    </tr>\n",
       "    <tr>\n",
       "      <th>Light Delight</th>\n",
       "      <td>5.0</td>\n",
       "      <td>7.0</td>\n",
       "    </tr>\n",
       "  </tbody>\n",
       "</table>\n",
       "</div>"
      ],
      "text/plain": [
       "                  Nicotine (cg)  Tar(mg)\n",
       "Peter Stuyvesant           10.0     12.7\n",
       "Gitanes                    10.0     12.0\n",
       "Malboro                    10.0     14.0\n",
       "Lucky Strike                9.0     14.0\n",
       "Light Delight               5.0      7.0"
      ]
     },
     "execution_count": 26,
     "metadata": {},
     "output_type": "execute_result"
    }
   ],
   "source": []
  },
  {
   "cell_type": "markdown",
   "metadata": {},
   "source": [
    "#### convergence generalized formula\n",
    "make sure to do this before appending means"
   ]
  },
  {
   "cell_type": "code",
   "execution_count": null,
   "metadata": {},
   "outputs": [
    {
     "data": {
      "text/plain": [
       "True"
      ]
     },
     "execution_count": 276,
     "metadata": {},
     "output_type": "execute_result"
    }
   ],
   "source": [
    "convergence=all([cache_means[-1][i]==means[i] for i in range(k)])\n"
   ]
  },
  {
   "cell_type": "markdown",
   "metadata": {},
   "source": [
    "#### loop"
   ]
  },
  {
   "cell_type": "code",
   "execution_count": 57,
   "metadata": {},
   "outputs": [
    {
     "data": {
      "text/html": [
       "<div>\n",
       "<style scoped>\n",
       "    .dataframe tbody tr th:only-of-type {\n",
       "        vertical-align: middle;\n",
       "    }\n",
       "\n",
       "    .dataframe tbody tr th {\n",
       "        vertical-align: top;\n",
       "    }\n",
       "\n",
       "    .dataframe thead th {\n",
       "        text-align: right;\n",
       "    }\n",
       "</style>\n",
       "<table border=\"1\" class=\"dataframe\">\n",
       "  <thead>\n",
       "    <tr style=\"text-align: right;\">\n",
       "      <th></th>\n",
       "      <th>Nicotine (cg)</th>\n",
       "      <th>Tar(mg)</th>\n",
       "    </tr>\n",
       "  </thead>\n",
       "  <tbody>\n",
       "    <tr>\n",
       "      <th>Peter Stuyvesant</th>\n",
       "      <td>10.0</td>\n",
       "      <td>12.7</td>\n",
       "    </tr>\n",
       "    <tr>\n",
       "      <th>Gitanes</th>\n",
       "      <td>10.0</td>\n",
       "      <td>12.0</td>\n",
       "    </tr>\n",
       "    <tr>\n",
       "      <th>Malboro</th>\n",
       "      <td>10.0</td>\n",
       "      <td>14.0</td>\n",
       "    </tr>\n",
       "    <tr>\n",
       "      <th>Lucky Strike</th>\n",
       "      <td>9.0</td>\n",
       "      <td>14.0</td>\n",
       "    </tr>\n",
       "    <tr>\n",
       "      <th>Light Delight</th>\n",
       "      <td>5.0</td>\n",
       "      <td>7.0</td>\n",
       "    </tr>\n",
       "  </tbody>\n",
       "</table>\n",
       "</div>"
      ],
      "text/plain": [
       "                  Nicotine (cg)  Tar(mg)\n",
       "Peter Stuyvesant           10.0     12.7\n",
       "Gitanes                    10.0     12.0\n",
       "Malboro                    10.0     14.0\n",
       "Lucky Strike                9.0     14.0\n",
       "Light Delight               5.0      7.0"
      ]
     },
     "metadata": {},
     "output_type": "display_data"
    }
   ],
   "source": [
    "df=pd.DataFrame(data, columns=['Nicotine (cg)', 'Tar(mg)'], index=['Peter Stuyvesant', 'Gitanes','Malboro','Lucky Strike', 'Light Delight'])\n",
    "display(df)\n",
    "\n",
    "k=2; n=len(data)\n",
    "distance=cluster_distance\n",
    "max_iter=100\n",
    "verbose=True\n",
    "\n",
    "cache_distance =[]\n",
    "cache_means = []"
   ]
  },
  {
   "cell_type": "code",
   "execution_count": null,
   "metadata": {},
   "outputs": [
    {
     "name": "stdout",
     "output_type": "stream",
     "text": [
      "\t-------------- Initial means: --------------\n",
      "\n"
     ]
    },
    {
     "data": {
      "text/html": [
       "<div>\n",
       "<style scoped>\n",
       "    .dataframe tbody tr th:only-of-type {\n",
       "        vertical-align: middle;\n",
       "    }\n",
       "\n",
       "    .dataframe tbody tr th {\n",
       "        vertical-align: top;\n",
       "    }\n",
       "\n",
       "    .dataframe thead tr th {\n",
       "        text-align: left;\n",
       "    }\n",
       "</style>\n",
       "<table border=\"1\" class=\"dataframe\">\n",
       "  <thead>\n",
       "    <tr>\n",
       "      <th></th>\n",
       "      <th>Nicotine (cg)</th>\n",
       "      <th>Tar(mg)</th>\n",
       "    </tr>\n",
       "  </thead>\n",
       "  <tbody>\n",
       "    <tr>\n",
       "      <th>Cluster 1</th>\n",
       "      <td>10.0</td>\n",
       "      <td>12.0</td>\n",
       "    </tr>\n",
       "    <tr>\n",
       "      <th>Cluster 2</th>\n",
       "      <td>9.0</td>\n",
       "      <td>14.0</td>\n",
       "    </tr>\n",
       "  </tbody>\n",
       "</table>\n",
       "</div>"
      ],
      "text/plain": [
       "          Nicotine (cg) Tar(mg)\n",
       "Cluster 1          10.0    12.0\n",
       "Cluster 2           9.0    14.0"
      ]
     },
     "metadata": {},
     "output_type": "display_data"
    },
    {
     "name": "stdout",
     "output_type": "stream",
     "text": [
      "CACHE MEANS: [[[10.0, 12.0], [9.0, 14.0]]]\n"
     ]
    }
   ],
   "source": [
    "################################## 1. Assign means ##################################\n",
    "\n",
    "M1=list(np.array(df.loc['Gitanes'],dtype=float))\n",
    "M2=list(np.array(df.loc['Lucky Strike'],dtype=float))\n",
    "means=[M1,M2]\n",
    "\n",
    "# -- assign k means randomly\n",
    "\n",
    "# assign_means(random=True)\n",
    "\n",
    "for mu in means:\n",
    "    for _ in range(len(mu)):\n",
    "        mu[_] = float(mu[_])\n",
    "\n",
    "\n",
    "\n",
    "cache_means.append(means)\n",
    "if verbose:\n",
    "    print(f'\\t-------------- Initial means: --------------\\n')\n",
    "    display(pd.DataFrame(means, columns=[df.columns],index=[f'Cluster {_}' for _ in range(1,k+1)]))\n",
    "\n",
    "print('CACHE MEANS:', cache_means)"
   ]
  },
  {
   "cell_type": "code",
   "execution_count": null,
   "metadata": {},
   "outputs": [
    {
     "data": {
      "text/plain": [
       "np.float64(5.0)"
      ]
     },
     "execution_count": 67,
     "metadata": {},
     "output_type": "execute_result"
    }
   ],
   "source": [
    "sss=[np.array([5., 7.]), [1,2]]\n",
    "\n",
    "for mu in sss:\n",
    "    for _ in range(len(mu)):\n",
    "        mu[_] = float(mu[_])\n",
    "    mu=\n",
    "\n",
    "sss[0]"
   ]
  },
  {
   "cell_type": "markdown",
   "metadata": {},
   "source": [
    "#### main"
   ]
  },
  {
   "cell_type": "code",
   "execution_count": 112,
   "metadata": {},
   "outputs": [
    {
     "data": {
      "text/plain": [
       "array([1, 4])"
      ]
     },
     "execution_count": 112,
     "metadata": {},
     "output_type": "execute_result"
    }
   ],
   "source": [
    "np.random.choice([1,2,3,4,5], size=2, replace=False)"
   ]
  },
  {
   "cell_type": "code",
   "execution_count": null,
   "metadata": {},
   "outputs": [
    {
     "data": {
      "text/plain": [
       "[[10.0, 12.0], [5.0, 7.0]]"
      ]
     },
     "execution_count": 122,
     "metadata": {},
     "output_type": "execute_result"
    }
   ],
   "source": [
    "def assign_means(data, k, seed=42):\n",
    "    means = []\n",
    "    np.random.seed(seed)\n",
    "\n",
    "    indices= np.random.choice(range(len(data)), size=k, replace=False) #avoids dups\n",
    "    for _ in range(k):\n",
    "        mu=[]\n",
    "        for __ in range(data.shape[1]):\n",
    "            mu.append(float(data[indices[_], __])) #fixes the freakinggggggggg format\n",
    "        means.append(mu)\n",
    "    return means\n",
    "\n",
    "assign_means(data, 2)"
   ]
  },
  {
   "cell_type": "code",
   "execution_count": null,
   "metadata": {},
   "outputs": [
    {
     "data": {
      "text/html": [
       "<div>\n",
       "<style scoped>\n",
       "    .dataframe tbody tr th:only-of-type {\n",
       "        vertical-align: middle;\n",
       "    }\n",
       "\n",
       "    .dataframe tbody tr th {\n",
       "        vertical-align: top;\n",
       "    }\n",
       "\n",
       "    .dataframe thead th {\n",
       "        text-align: right;\n",
       "    }\n",
       "</style>\n",
       "<table border=\"1\" class=\"dataframe\">\n",
       "  <thead>\n",
       "    <tr style=\"text-align: right;\">\n",
       "      <th></th>\n",
       "      <th>Nicotine (cg)</th>\n",
       "      <th>Tar(mg)</th>\n",
       "    </tr>\n",
       "  </thead>\n",
       "  <tbody>\n",
       "    <tr>\n",
       "      <th>Peter Stuyvesant</th>\n",
       "      <td>10.0</td>\n",
       "      <td>12.7</td>\n",
       "    </tr>\n",
       "    <tr>\n",
       "      <th>Gitanes</th>\n",
       "      <td>10.0</td>\n",
       "      <td>12.0</td>\n",
       "    </tr>\n",
       "    <tr>\n",
       "      <th>Malboro</th>\n",
       "      <td>10.0</td>\n",
       "      <td>14.0</td>\n",
       "    </tr>\n",
       "    <tr>\n",
       "      <th>Lucky Strike</th>\n",
       "      <td>9.0</td>\n",
       "      <td>14.0</td>\n",
       "    </tr>\n",
       "    <tr>\n",
       "      <th>Light Delight</th>\n",
       "      <td>5.0</td>\n",
       "      <td>7.0</td>\n",
       "    </tr>\n",
       "  </tbody>\n",
       "</table>\n",
       "</div>"
      ],
      "text/plain": [
       "                  Nicotine (cg)  Tar(mg)\n",
       "Peter Stuyvesant           10.0     12.7\n",
       "Gitanes                    10.0     12.0\n",
       "Malboro                    10.0     14.0\n",
       "Lucky Strike                9.0     14.0\n",
       "Light Delight               5.0      7.0"
      ]
     },
     "metadata": {},
     "output_type": "display_data"
    },
    {
     "name": "stdout",
     "output_type": "stream",
     "text": [
      "\t-------------- Initial means: --------------\n",
      "\n"
     ]
    },
    {
     "data": {
      "text/html": [
       "<div>\n",
       "<style scoped>\n",
       "    .dataframe tbody tr th:only-of-type {\n",
       "        vertical-align: middle;\n",
       "    }\n",
       "\n",
       "    .dataframe tbody tr th {\n",
       "        vertical-align: top;\n",
       "    }\n",
       "\n",
       "    .dataframe thead tr th {\n",
       "        text-align: left;\n",
       "    }\n",
       "</style>\n",
       "<table border=\"1\" class=\"dataframe\">\n",
       "  <thead>\n",
       "    <tr>\n",
       "      <th></th>\n",
       "      <th>Nicotine (cg)</th>\n",
       "      <th>Tar(mg)</th>\n",
       "    </tr>\n",
       "  </thead>\n",
       "  <tbody>\n",
       "    <tr>\n",
       "      <th>Cluster 1</th>\n",
       "      <td>10.0</td>\n",
       "      <td>12.0</td>\n",
       "    </tr>\n",
       "    <tr>\n",
       "      <th>Cluster 2</th>\n",
       "      <td>9.0</td>\n",
       "      <td>14.0</td>\n",
       "    </tr>\n",
       "  </tbody>\n",
       "</table>\n",
       "</div>"
      ],
      "text/plain": [
       "          Nicotine (cg) Tar(mg)\n",
       "Cluster 1          10.0    12.0\n",
       "Cluster 2           9.0    14.0"
      ]
     },
     "metadata": {},
     "output_type": "display_data"
    },
    {
     "name": "stdout",
     "output_type": "stream",
     "text": [
      "Iteration: 1\n",
      "\t\t--- Distances between points and means ---\n"
     ]
    },
    {
     "data": {
      "text/html": [
       "<div>\n",
       "<style scoped>\n",
       "    .dataframe tbody tr th:only-of-type {\n",
       "        vertical-align: middle;\n",
       "    }\n",
       "\n",
       "    .dataframe tbody tr th {\n",
       "        vertical-align: top;\n",
       "    }\n",
       "\n",
       "    .dataframe thead th {\n",
       "        text-align: right;\n",
       "    }\n",
       "</style>\n",
       "<table border=\"1\" class=\"dataframe\">\n",
       "  <thead>\n",
       "    <tr style=\"text-align: right;\">\n",
       "      <th></th>\n",
       "      <th>Cluster 1</th>\n",
       "      <th>Cluster 2</th>\n",
       "    </tr>\n",
       "  </thead>\n",
       "  <tbody>\n",
       "    <tr>\n",
       "      <th>Peter Stuyvesant</th>\n",
       "      <td>0.35</td>\n",
       "      <td>0.15</td>\n",
       "    </tr>\n",
       "    <tr>\n",
       "      <th>Gitanes</th>\n",
       "      <td>0.00</td>\n",
       "      <td>0.50</td>\n",
       "    </tr>\n",
       "    <tr>\n",
       "      <th>Malboro</th>\n",
       "      <td>1.00</td>\n",
       "      <td>0.50</td>\n",
       "    </tr>\n",
       "    <tr>\n",
       "      <th>Lucky Strike</th>\n",
       "      <td>0.50</td>\n",
       "      <td>0.00</td>\n",
       "    </tr>\n",
       "    <tr>\n",
       "      <th>Light Delight</th>\n",
       "      <td>5.00</td>\n",
       "      <td>5.50</td>\n",
       "    </tr>\n",
       "  </tbody>\n",
       "</table>\n",
       "</div>"
      ],
      "text/plain": [
       "                  Cluster 1  Cluster 2\n",
       "Peter Stuyvesant       0.35       0.15\n",
       "Gitanes                0.00       0.50\n",
       "Malboro                1.00       0.50\n",
       "Lucky Strike           0.50       0.00\n",
       "Light Delight          5.00       5.50"
      ]
     },
     "metadata": {},
     "output_type": "display_data"
    },
    {
     "name": "stdout",
     "output_type": "stream",
     "text": [
      "CLUSTER: Cluster: [array([10., 12.]), array([5., 7.])];\n",
      "\tCentroid: [7.5, 9.5]\n",
      "CLUSTER: Cluster: [array([10. , 12.7]), array([10., 14.]), array([ 9., 14.])];\n",
      "\tCentroid: [9.666666666666666, 13.566666666666666]\n",
      "\t\t--- Newly assigned means ---\n"
     ]
    },
    {
     "data": {
      "text/html": [
       "<div>\n",
       "<style scoped>\n",
       "    .dataframe tbody tr th:only-of-type {\n",
       "        vertical-align: middle;\n",
       "    }\n",
       "\n",
       "    .dataframe tbody tr th {\n",
       "        vertical-align: top;\n",
       "    }\n",
       "\n",
       "    .dataframe thead tr th {\n",
       "        text-align: left;\n",
       "    }\n",
       "</style>\n",
       "<table border=\"1\" class=\"dataframe\">\n",
       "  <thead>\n",
       "    <tr>\n",
       "      <th></th>\n",
       "      <th>Nicotine (cg)</th>\n",
       "      <th>Tar(mg)</th>\n",
       "    </tr>\n",
       "  </thead>\n",
       "  <tbody>\n",
       "    <tr>\n",
       "      <th>Cluster 1</th>\n",
       "      <td>7.500000</td>\n",
       "      <td>9.500000</td>\n",
       "    </tr>\n",
       "    <tr>\n",
       "      <th>Cluster 2</th>\n",
       "      <td>9.666667</td>\n",
       "      <td>13.566667</td>\n",
       "    </tr>\n",
       "  </tbody>\n",
       "</table>\n",
       "</div>"
      ],
      "text/plain": [
       "          Nicotine (cg)    Tar(mg)\n",
       "Cluster 1      7.500000   9.500000\n",
       "Cluster 2      9.666667  13.566667"
      ]
     },
     "metadata": {},
     "output_type": "display_data"
    },
    {
     "name": "stdout",
     "output_type": "stream",
     "text": [
      "MEANS: [[7.5, 9.5], [9.666666666666666, 13.566666666666666]]\n",
      "Convergence state: False\n",
      "\n",
      "\n",
      "True True\n",
      "Iteration: 2\n",
      "\t\t--- Distances between points and means ---\n"
     ]
    },
    {
     "data": {
      "text/html": [
       "<div>\n",
       "<style scoped>\n",
       "    .dataframe tbody tr th:only-of-type {\n",
       "        vertical-align: middle;\n",
       "    }\n",
       "\n",
       "    .dataframe tbody tr th {\n",
       "        vertical-align: top;\n",
       "    }\n",
       "\n",
       "    .dataframe thead th {\n",
       "        text-align: right;\n",
       "    }\n",
       "</style>\n",
       "<table border=\"1\" class=\"dataframe\">\n",
       "  <thead>\n",
       "    <tr style=\"text-align: right;\">\n",
       "      <th></th>\n",
       "      <th>Cluster 1</th>\n",
       "      <th>Cluster 2</th>\n",
       "    </tr>\n",
       "  </thead>\n",
       "  <tbody>\n",
       "    <tr>\n",
       "      <th>Peter Stuyvesant</th>\n",
       "      <td>2.85</td>\n",
       "      <td>0.26667</td>\n",
       "    </tr>\n",
       "    <tr>\n",
       "      <th>Gitanes</th>\n",
       "      <td>2.50</td>\n",
       "      <td>0.61667</td>\n",
       "    </tr>\n",
       "    <tr>\n",
       "      <th>Malboro</th>\n",
       "      <td>3.50</td>\n",
       "      <td>0.38333</td>\n",
       "    </tr>\n",
       "    <tr>\n",
       "      <th>Lucky Strike</th>\n",
       "      <td>3.00</td>\n",
       "      <td>0.11667</td>\n",
       "    </tr>\n",
       "    <tr>\n",
       "      <th>Light Delight</th>\n",
       "      <td>2.50</td>\n",
       "      <td>5.61667</td>\n",
       "    </tr>\n",
       "  </tbody>\n",
       "</table>\n",
       "</div>"
      ],
      "text/plain": [
       "                  Cluster 1  Cluster 2\n",
       "Peter Stuyvesant       2.85    0.26667\n",
       "Gitanes                2.50    0.61667\n",
       "Malboro                3.50    0.38333\n",
       "Lucky Strike           3.00    0.11667\n",
       "Light Delight          2.50    5.61667"
      ]
     },
     "metadata": {},
     "output_type": "display_data"
    },
    {
     "name": "stdout",
     "output_type": "stream",
     "text": [
      "CLUSTER: Cluster: [array([5., 7.])];\n",
      "\tCentroid: [np.float64(5.0), np.float64(7.0)]\n",
      "CLUSTER: Cluster: [array([10. , 12.7]), array([10., 12.]), array([10., 14.]), array([ 9., 14.])];\n",
      "\tCentroid: [9.75, 13.175]\n",
      "\t\t--- Newly assigned means ---\n"
     ]
    },
    {
     "data": {
      "text/html": [
       "<div>\n",
       "<style scoped>\n",
       "    .dataframe tbody tr th:only-of-type {\n",
       "        vertical-align: middle;\n",
       "    }\n",
       "\n",
       "    .dataframe tbody tr th {\n",
       "        vertical-align: top;\n",
       "    }\n",
       "\n",
       "    .dataframe thead tr th {\n",
       "        text-align: left;\n",
       "    }\n",
       "</style>\n",
       "<table border=\"1\" class=\"dataframe\">\n",
       "  <thead>\n",
       "    <tr>\n",
       "      <th></th>\n",
       "      <th>Nicotine (cg)</th>\n",
       "      <th>Tar(mg)</th>\n",
       "    </tr>\n",
       "  </thead>\n",
       "  <tbody>\n",
       "    <tr>\n",
       "      <th>Cluster 1</th>\n",
       "      <td>5.00</td>\n",
       "      <td>7.000</td>\n",
       "    </tr>\n",
       "    <tr>\n",
       "      <th>Cluster 2</th>\n",
       "      <td>9.75</td>\n",
       "      <td>13.175</td>\n",
       "    </tr>\n",
       "  </tbody>\n",
       "</table>\n",
       "</div>"
      ],
      "text/plain": [
       "          Nicotine (cg) Tar(mg)\n",
       "Cluster 1          5.00   7.000\n",
       "Cluster 2          9.75  13.175"
      ]
     },
     "metadata": {},
     "output_type": "display_data"
    },
    {
     "name": "stdout",
     "output_type": "stream",
     "text": [
      "MEANS: [[np.float64(5.0), np.float64(7.0)], [9.75, 13.175]]\n",
      "Convergence state: False\n",
      "\n",
      "\n",
      "True True\n",
      "Iteration: 3\n",
      "\t\t--- Distances between points and means ---\n"
     ]
    },
    {
     "data": {
      "text/html": [
       "<div>\n",
       "<style scoped>\n",
       "    .dataframe tbody tr th:only-of-type {\n",
       "        vertical-align: middle;\n",
       "    }\n",
       "\n",
       "    .dataframe tbody tr th {\n",
       "        vertical-align: top;\n",
       "    }\n",
       "\n",
       "    .dataframe thead th {\n",
       "        text-align: right;\n",
       "    }\n",
       "</style>\n",
       "<table border=\"1\" class=\"dataframe\">\n",
       "  <thead>\n",
       "    <tr style=\"text-align: right;\">\n",
       "      <th></th>\n",
       "      <th>Cluster 1</th>\n",
       "      <th>Cluster 2</th>\n",
       "    </tr>\n",
       "  </thead>\n",
       "  <tbody>\n",
       "    <tr>\n",
       "      <th>Peter Stuyvesant</th>\n",
       "      <td>5.35</td>\n",
       "      <td>0.1125</td>\n",
       "    </tr>\n",
       "    <tr>\n",
       "      <th>Gitanes</th>\n",
       "      <td>5.00</td>\n",
       "      <td>0.4625</td>\n",
       "    </tr>\n",
       "    <tr>\n",
       "      <th>Malboro</th>\n",
       "      <td>6.00</td>\n",
       "      <td>0.5375</td>\n",
       "    </tr>\n",
       "    <tr>\n",
       "      <th>Lucky Strike</th>\n",
       "      <td>5.50</td>\n",
       "      <td>0.0375</td>\n",
       "    </tr>\n",
       "    <tr>\n",
       "      <th>Light Delight</th>\n",
       "      <td>0.00</td>\n",
       "      <td>5.4625</td>\n",
       "    </tr>\n",
       "  </tbody>\n",
       "</table>\n",
       "</div>"
      ],
      "text/plain": [
       "                  Cluster 1  Cluster 2\n",
       "Peter Stuyvesant       5.35     0.1125\n",
       "Gitanes                5.00     0.4625\n",
       "Malboro                6.00     0.5375\n",
       "Lucky Strike           5.50     0.0375\n",
       "Light Delight          0.00     5.4625"
      ]
     },
     "metadata": {},
     "output_type": "display_data"
    },
    {
     "name": "stdout",
     "output_type": "stream",
     "text": [
      "CLUSTER: Cluster: [array([5., 7.])];\n",
      "\tCentroid: [np.float64(5.0), np.float64(7.0)]\n",
      "CLUSTER: Cluster: [array([10. , 12.7]), array([10., 12.]), array([10., 14.]), array([ 9., 14.])];\n",
      "\tCentroid: [9.75, 13.175]\n",
      "\t\t--- Newly assigned means ---\n"
     ]
    },
    {
     "data": {
      "text/html": [
       "<div>\n",
       "<style scoped>\n",
       "    .dataframe tbody tr th:only-of-type {\n",
       "        vertical-align: middle;\n",
       "    }\n",
       "\n",
       "    .dataframe tbody tr th {\n",
       "        vertical-align: top;\n",
       "    }\n",
       "\n",
       "    .dataframe thead tr th {\n",
       "        text-align: left;\n",
       "    }\n",
       "</style>\n",
       "<table border=\"1\" class=\"dataframe\">\n",
       "  <thead>\n",
       "    <tr>\n",
       "      <th></th>\n",
       "      <th>Nicotine (cg)</th>\n",
       "      <th>Tar(mg)</th>\n",
       "    </tr>\n",
       "  </thead>\n",
       "  <tbody>\n",
       "    <tr>\n",
       "      <th>Cluster 1</th>\n",
       "      <td>5.00</td>\n",
       "      <td>7.000</td>\n",
       "    </tr>\n",
       "    <tr>\n",
       "      <th>Cluster 2</th>\n",
       "      <td>9.75</td>\n",
       "      <td>13.175</td>\n",
       "    </tr>\n",
       "  </tbody>\n",
       "</table>\n",
       "</div>"
      ],
      "text/plain": [
       "          Nicotine (cg) Tar(mg)\n",
       "Cluster 1          5.00   7.000\n",
       "Cluster 2          9.75  13.175"
      ]
     },
     "metadata": {},
     "output_type": "display_data"
    },
    {
     "name": "stdout",
     "output_type": "stream",
     "text": [
      "MEANS: [[np.float64(5.0), np.float64(7.0)], [9.75, 13.175]]\n",
      "Convergence state: True\n",
      "\n",
      "\n",
      "False True\n"
     ]
    }
   ],
   "source": [
    "df=pd.DataFrame(data, columns=['Nicotine (cg)', 'Tar(mg)'], index=['Peter Stuyvesant', 'Gitanes','Malboro','Lucky Strike', 'Light Delight'])\n",
    "display(df)\n",
    "\n",
    "k=2; n=len(data)\n",
    "distance=cluster_distance\n",
    "max_iter=100\n",
    "verbose=True\n",
    "\n",
    "cache_distance =[]\n",
    "cache_means = []\n",
    "\n",
    "################################## 1. Assign means ##################################\n",
    "\n",
    "# -- assign k means randomly\n",
    "\n",
    "# assign_means(random=True)\n",
    "M1=list(np.array(df.loc['Gitanes'],dtype=float))\n",
    "M2=list(np.array(df.loc['Lucky Strike'],dtype=float))\n",
    "means=[M1,M2]\n",
    "\n",
    "# --\n",
    "\n",
    "for mu in means:\n",
    "    for _ in range(len(mu)):\n",
    "        mu[_] = float(mu[_])\n",
    "\n",
    "means=[list(mu) for mu in means]\n",
    "\n",
    "cache_means.append(means)\n",
    "if verbose:\n",
    "    print(f'\\t-------------- Initial means: --------------\\n')\n",
    "    display(pd.DataFrame(means, columns=[df.columns],index=[f'Cluster {_}' for _ in range(1,k+1)]))\n",
    "\n",
    "\n",
    "# -- loop prep\n",
    "iter_count=0; convergence=False\n",
    "\n",
    "while (not convergence and iter_count<max_iter):\n",
    "    # ---- counting the iterations ----\n",
    "    iter_count+=1\n",
    "    if verbose:\n",
    "        print(f'Iteration: {iter_count}')\n",
    "    # ---------------------------------\n",
    "\n",
    "    ################################## 2. Assign each data point to a cluster ##################################\n",
    "    ################################## 2.a Compute the distances between each data point and the means ##################################\n",
    "\n",
    "    distances = np.zeros((n,k))\n",
    "    \n",
    "    for i in range(n):\n",
    "        for j in range(k):\n",
    "            distances[i,j] = distance(data[i], means[j])\n",
    "    distance_df = pd.DataFrame(distances, index=df.index, columns=[f'Cluster {i+1}' for i in range(k)])\n",
    "    \n",
    "    cache_distance.append(distance_df)\n",
    "    if verbose:\n",
    "        print('\\t\\t--- Distances between points and means ---')\n",
    "        display(distance_df)\n",
    "\n",
    "    ################################## 2.b Assign each data point to the cluster with the closest mean ##################################\n",
    "\n",
    "    cluster_set=[Cluster() for _ in range(k)]\n",
    "    index_cluster_set=[Cluster() for _ in range(k)]\n",
    "\n",
    "    for i in range(n):\n",
    "        min_index=np.argmin(distances[i])\n",
    "        cluster_set[min_index]+=data[i]\n",
    "        index_cluster_set[min_index]+=i\n",
    "\n",
    "    ################################## 3. Compute the new means of the clusters ##################################\n",
    "\n",
    "    means=[]\n",
    "    for i in range(k):\n",
    "        means.append(cluster_set[i].center)\n",
    "        print('CLUSTER:',cluster_set[i])\n",
    "\n",
    "    if verbose:\n",
    "        print('\\t\\t--- Newly assigned means ---')\n",
    "        display(pd.DataFrame(means, columns=[df.columns],index=[f'Cluster {_}' for _ in range(1,k+1)]))\n",
    "    print('MEANS:',means)\n",
    "    cache_means.append(means)\n",
    "\n",
    "    # --------- checks if the means have changed -------\n",
    "\n",
    "    if iter_count>1:\n",
    "        convergence=[cache_means[-1][_]==cache_means[-2][_] for _ in range(k)]\n",
    "        convergence=all(convergence)\n",
    "\n",
    "    if verbose:\n",
    "        print(f'Convergence state: {convergence}\\n\\n')\n",
    "\n",
    "    ################################## 4. repeat until stopping criterion is met ##################################\n",
    "    print(not convergence, iter_count<max_iter)"
   ]
  },
  {
   "cell_type": "code",
   "execution_count": 41,
   "metadata": {},
   "outputs": [
    {
     "data": {
      "text/plain": [
       "[[array([10., 12.]), array([ 9., 14.])],\n",
       " [[7.5, 9.5], [9.666666666666666, 13.566666666666666]],\n",
       " [array([5., 7.]), [9.75, 13.175]]]"
      ]
     },
     "execution_count": 41,
     "metadata": {},
     "output_type": "execute_result"
    }
   ],
   "source": [
    "cache_distance\n",
    "cache_means"
   ]
  },
  {
   "cell_type": "code",
   "execution_count": null,
   "metadata": {},
   "outputs": [],
   "source": [
    "l=[]\n",
    "l.app"
   ]
  }
 ],
 "metadata": {
  "kernelspec": {
   "display_name": "base",
   "language": "python",
   "name": "python3"
  },
  "language_info": {
   "codemirror_mode": {
    "name": "ipython",
    "version": 3
   },
   "file_extension": ".py",
   "mimetype": "text/x-python",
   "name": "python",
   "nbconvert_exporter": "python",
   "pygments_lexer": "ipython3",
   "version": "3.12.2"
  }
 },
 "nbformat": 4,
 "nbformat_minor": 2
}
